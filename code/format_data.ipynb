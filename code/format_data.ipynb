{
 "cells": [
  {
   "cell_type": "code",
   "execution_count": 7,
   "metadata": {},
   "outputs": [
    {
     "data": {
      "text/html": [
       "<style>.container { width:95% !important; }</style>"
      ],
      "text/plain": [
       "<IPython.core.display.HTML object>"
      ]
     },
     "metadata": {},
     "output_type": "display_data"
    }
   ],
   "source": [
    "import pandas as pd\n",
    "import numpy as np\n",
    "\n",
    "# Format misc\n",
    "import json\n",
    "import os\n",
    "import pickle\n",
    "\n",
    "# Plot\n",
    "import seaborn as sns\n",
    "import pylab as plt\n",
    "\n",
    "# Scrape utils\n",
    "import statsmodels.formula.api as smf\n",
    "import grequests\n",
    "import requests\n",
    "import bs4 as bs\n",
    "\n",
    "# Detect language\n",
    "import sys\n",
    "sys.path.append(\"./\")\n",
    "\n",
    "# Combine sets and calculate diversity\n",
    "from scipy.stats import entropy\n",
    "import itertools\n",
    "from collections import Counter\n",
    "\n",
    "import json\n",
    "import requests\n",
    "from urllib.parse import urlparse\n",
    "\n",
    "from IPython.core.display import display, HTML\n",
    "display(HTML(\"<style>.container { width:95% !important; }</style>\"))\n",
    "\n",
    "\n",
    "%matplotlib inline"
   ]
  },
  {
   "cell_type": "markdown",
   "metadata": {},
   "source": [
    "# Download main dataset (searches of people)"
   ]
  },
  {
   "cell_type": "code",
   "execution_count": 9,
   "metadata": {},
   "outputs": [],
   "source": [
    "%%capture\n",
    "# Download \"google search results\" dataset only if not previously downloaded to save time and bandwidth\n",
    "files = [_ for _ in os.listdir(\"data\") if \"json\" in _]\n",
    "if not files:\n",
    "    print(\"Data not found. Downloading. This can take about 15 minutes to complete.\")\n",
    "    !mkdir -p data\n",
    "    for month in range(7, 10):\n",
    "        month = \"{:02.0f}\".format(month)\n",
    "        for day in range(1, 32):\n",
    "            if (month == \"07\") & (day < 5):\n",
    "                continue\n",
    "            if (month == \"09\") & (day > 30):\n",
    "                continue\n",
    "            day = \"{:02.0f}\".format(day) \n",
    "            !wget -P data https://datenspende.algorithmwatch.org/btw17/download/public/datenspende_btw17_public_data_2017-\"$month\"-\"$day\".7z\n",
    "            !7z x -odata data/datenspende_btw17_public_data_2017-\"$month\"-\"$day\".7z\n",
    "            !rm data/datenspende_btw17_public_data_2017-\"$month\"-\"$day\".7z\n",
    "else:\n",
    "    print(\"Data already downloaded\")"
   ]
  },
  {
   "cell_type": "code",
   "execution_count": null,
   "metadata": {},
   "outputs": [],
   "source": [
    "# This step can take around 1 hour in a good laptop (32GB, i7)\n",
    "def add_user(df, i):\n",
    "    if int(len(df) / 16) != len(df) / 16:\n",
    "        print(len(df), i)\n",
    "        df[\"user\"] = np.NaN #[date+_ for _ in sorted(list(range(int(len(df)/16)))*16)]\n",
    "    else:\n",
    "        df[\"user\"] = [i + \"_\" + str(_) for _ in sorted(list(range(int(len(df)/16)))*16)]\n",
    "    return df\n",
    "    \n",
    "# Format all the json files\n",
    "files = [_ for _ in os.listdir(\"data\") if \"json\" in _]\n",
    "hash2links = dict()\n",
    "print(len(files))\n",
    "    \n",
    "for i, file in enumerate(files):\n",
    "    print(i, end=\": \")\n",
    "    date = file[-15:-5] + \"_\"\n",
    "    d = json.load(open(\"data/\"+file))\n",
    "    for result in d[-1]:\n",
    "        if hash2links.get(result[\"result_hash\"]) is None:\n",
    "            hash2links[result[\"result_hash\"]] = set([_[\"sourceUrl\"] for _ in result[\"result\"]])\n",
    "            \n",
    "    df = pd.concat([add_user(pd.DataFrame(_), date + str(j)) for j,_ in enumerate(d[:-1])])\n",
    "    df.to_csv(\"data/people_{}.tsv\".format(file[:-5]), sep=\"\\t\", index=None)\n",
    "#     df_hash = pd.DataFrame(d[-1])\n",
    "#     df_hash.to_csv(\"data/hash_{}.tsv\".format(file[:-5]),sep=\"\\t\",index=None)\n"
   ]
  },
  {
   "cell_type": "code",
   "execution_count": null,
   "metadata": {},
   "outputs": [],
   "source": [
    "#Save\n",
    "pickle.dump(hash2links, open(\"data_clean/hash2links.dump\", \"wb+\"))"
   ]
  },
  {
   "cell_type": "code",
   "execution_count": null,
   "metadata": {},
   "outputs": [],
   "source": [
    "#Go from postal code to constituency\n",
    "const2postal = dict()\n",
    "with open(\"data/const2postal.csv\") as f:\n",
    "    for line in f:\n",
    "        try:\n",
    "            a,b = line.split(\":\")\n",
    "            const2postal[int(b.strip()[:-1])] = int(a.strip())\n",
    "        except:\n",
    "            pass #print(line)"
   ]
  },
  {
   "cell_type": "code",
   "execution_count": null,
   "metadata": {},
   "outputs": [],
   "source": [
    "#Concat all csvs\n",
    "files = [_ for _ in os.listdir(\"data\") if \"people_\" in _]\n",
    "people = pd.concat([pd.read_csv(\"data/\" + file, sep=\"\\t\") for file in files])\n",
    "\n",
    "people = people.loc[people[\"geo_location\"].str.slice(0, 2) == \"DE\"]\n",
    "\n",
    "people[\"geo_location2\"] = people[\"geo_location\"].str.split(\" \").str[1]\n",
    "people = people.loc[people[\"geo_location2\"].str.len() > 1]\n",
    "people = people.loc[people[\"search_date\"] < \"2017-09-24\"]\n",
    "people[\"const_i\"] = people[\"geo_location2\"].astype(int).map(const2postal)\n",
    "print(people.loc[np.isnan(people[\"const_i\"]), \"geo_location2\"].unique())\n",
    "#['45403' '09060' '63405' '33311' '83739' '09039' '40832' '09202' '09359']\n",
    "\n",
    "people = people.loc[~np.isnan(people[\"const_i\"])]\n",
    "people.head()"
   ]
  },
  {
   "cell_type": "code",
   "execution_count": null,
   "metadata": {},
   "outputs": [],
   "source": [
    "people.to_csv(\"data_clean/all_people.csv\",sep=\"\\t\",index=None)"
   ]
  },
  {
   "cell_type": "markdown",
   "metadata": {},
   "source": [
    "# Create ideology from Twitter\n",
    "\n"
   ]
  },
  {
   "cell_type": "code",
   "execution_count": null,
   "metadata": {},
   "outputs": [],
   "source": [
    "## The following code downloads 22,123,230 tweets and takes ~1 week (this is why it is commented out)\n",
    "## To run it requires you to configure twarc correctly: https://medium.com/on-archivy/on-forgetting-e01a2b95272\n",
    "\n",
    "#!mkdir data_social_media\n",
    "#Download file ZA6926_data_v1-0-0.csv.zip from https://dbk.gesis.org/dbksearch/sdesc2.asp?no=6926\n",
    "#!unzip data_social_media/ZA6926_data_v1-0-0.csv.zip data_social_media/"
   ]
  },
  {
   "cell_type": "code",
   "execution_count": null,
   "metadata": {},
   "outputs": [],
   "source": [
    "# with open(\"data_social_media/tweets.json\".format(j)) as f:\n",
    "#     for i,line in enumerate(f):\n",
    "#         pass\n",
    "# max_i = (i+1)\n",
    "\n",
    "# with open(\"data_social_media/twitter_IDs.utf-8.csv\") as f,open(\"data_social_media/remaining_twitter_IDs.utf-8.csv\",\"w+\") as f2:\n",
    "#     for i,line in enumerate(f):\n",
    "#         if i < max_i:\n",
    "#             pass\n",
    "#         else:\n",
    "#             f2.write(line)\n",
    "            \n",
    "# tweets_i += 1\n",
    "# print(tweets_i)\n",
    "# print(max_i)\n",
    "\n",
    "# !twarc hydrate data_social_media/remaining_twitter_IDs.utf-8.csv > data_social_media/tweets1.json\n",
    "# !cat data_social_media/tweets1.json >> data_social_media/tweets.json \n",
    "# !rm data_social_media/tweets1.json\n",
    "\n",
    "\n",
    "# codebook = {1: \"CDU\",\n",
    "# 2: \"SPD\",\n",
    "# 3: \"Linke\",\n",
    "# 4: \"Grüne\",\n",
    "# 5: \"CSU\",\n",
    "# 6: \"FDP\",\n",
    "# 7: \"AfD\"}\n",
    "\n",
    "# candidates = pd.read_csv(\"data_social_media/candidates.utf-8.csv\",sep=\",\",usecols=[\"twlink\",\"party\"]).dropna()\n",
    "# candidates[\"party\"] = candidates[\"party\"].map(codebook)\n",
    "\n",
    "# def agg_tw(links):\n",
    "#     return \":::\".join([_.rsplit(\"/\")[-1].lower() for _ in links])\n",
    "\n",
    "\n",
    "# candidates[\"twlink\"] = candidates[\"twlink\"].str.split(\"/\").str[-1].str.lower()\n",
    "# orgs = pd.read_csv(\"data_social_media/twitter_organizations.utf-8.csv\",sep=\",\").dropna()\n",
    "# orgs = orgs.loc[orgs[\"group_or_party\"]!=\"media\"]\n",
    "# orgs[\"screenName\"] = orgs[\"screenName\"].str.lower()\n",
    "# candidates.columns = [\"name\",\"party\"]\n",
    "# orgs.columns = [\"name\",\"party\"]\n",
    "# cs = pd.concat([orgs,candidates])\n",
    "\n",
    "\n",
    "# tw = set(cs[\"name\"])\n",
    "# c2party = cs.set_index(\"name\").to_dict()[\"party\"]\n",
    "\n",
    "\n",
    "# with open(\"data_social_media/tweets.json\") as f, open(\"data_clean/twitter_media.tsv\",\"a+\") as fout, open(\"data_clean/twitter_media_fail.tsv\",\"a+\") as ffail:\n",
    "#     for i,line in enumerate(f):\n",
    "#         if i < max_i:\n",
    "#             continue\n",
    "#         if i%100000 == 0:\n",
    "#             print(i, end=\": \")\n",
    "#         try:\n",
    "#             d = json.loads(line)\n",
    "#         except:\n",
    "#             pass\n",
    "\n",
    "#         if d[\"user\"][\"screen_name\"].lower() in tw:\n",
    "#             id_,user = d[\"id\"],d[\"user\"][\"screen_name\"].lower()\n",
    "#             try:\n",
    "#                 s = \"\\t\".join([str(id_),c2party[user],user,\":::\".join([requests.head(url[\"expanded_url\"], allow_redirects=True).url for url in d[\"entities\"][\"urls\"]])])\n",
    "#                 fout.write(s+\"\\n\")\n",
    "#             except:\n",
    "#                 ffail.write(line)\n",
    "            "
   ]
  },
  {
   "cell_type": "code",
   "execution_count": 16,
   "metadata": {},
   "outputs": [
    {
     "data": {
      "text/html": [
       "<div>\n",
       "<style scoped>\n",
       "    .dataframe tbody tr th:only-of-type {\n",
       "        vertical-align: middle;\n",
       "    }\n",
       "\n",
       "    .dataframe tbody tr th {\n",
       "        vertical-align: top;\n",
       "    }\n",
       "\n",
       "    .dataframe thead th {\n",
       "        text-align: right;\n",
       "    }\n",
       "</style>\n",
       "<table border=\"1\" class=\"dataframe\">\n",
       "  <thead>\n",
       "    <tr style=\"text-align: right;\">\n",
       "      <th>party</th>\n",
       "      <th>AfD</th>\n",
       "      <th>CSU</th>\n",
       "      <th>CDU</th>\n",
       "      <th>FDP</th>\n",
       "      <th>SPD</th>\n",
       "      <th>Grüne</th>\n",
       "      <th>Linke</th>\n",
       "    </tr>\n",
       "    <tr>\n",
       "      <th>netloc</th>\n",
       "      <th></th>\n",
       "      <th></th>\n",
       "      <th></th>\n",
       "      <th></th>\n",
       "      <th></th>\n",
       "      <th></th>\n",
       "      <th></th>\n",
       "    </tr>\n",
       "  </thead>\n",
       "  <tbody>\n",
       "    <tr>\n",
       "      <th>jungefreiheit</th>\n",
       "      <td>100.0</td>\n",
       "      <td>0.0</td>\n",
       "      <td>0.0</td>\n",
       "      <td>0.0</td>\n",
       "      <td>0.0</td>\n",
       "      <td>0.0</td>\n",
       "      <td>0.0</td>\n",
       "    </tr>\n",
       "    <tr>\n",
       "      <th>cicero</th>\n",
       "      <td>37.7</td>\n",
       "      <td>23.1</td>\n",
       "      <td>7.3</td>\n",
       "      <td>20.8</td>\n",
       "      <td>0.0</td>\n",
       "      <td>8.1</td>\n",
       "      <td>3.1</td>\n",
       "    </tr>\n",
       "    <tr>\n",
       "      <th>welt</th>\n",
       "      <td>32.2</td>\n",
       "      <td>14.0</td>\n",
       "      <td>20.1</td>\n",
       "      <td>17.4</td>\n",
       "      <td>7.8</td>\n",
       "      <td>5.1</td>\n",
       "      <td>3.3</td>\n",
       "    </tr>\n",
       "    <tr>\n",
       "      <th>bild</th>\n",
       "      <td>18.2</td>\n",
       "      <td>21.0</td>\n",
       "      <td>28.1</td>\n",
       "      <td>19.3</td>\n",
       "      <td>7.5</td>\n",
       "      <td>4.4</td>\n",
       "      <td>1.4</td>\n",
       "    </tr>\n",
       "    <tr>\n",
       "      <th>faz</th>\n",
       "      <td>13.7</td>\n",
       "      <td>18.5</td>\n",
       "      <td>24.7</td>\n",
       "      <td>22.9</td>\n",
       "      <td>5.5</td>\n",
       "      <td>10.1</td>\n",
       "      <td>4.6</td>\n",
       "    </tr>\n",
       "    <tr>\n",
       "      <th>zeit</th>\n",
       "      <td>6.6</td>\n",
       "      <td>4.0</td>\n",
       "      <td>13.6</td>\n",
       "      <td>11.9</td>\n",
       "      <td>17.7</td>\n",
       "      <td>29.8</td>\n",
       "      <td>16.5</td>\n",
       "    </tr>\n",
       "    <tr>\n",
       "      <th>taz</th>\n",
       "      <td>1.6</td>\n",
       "      <td>0.0</td>\n",
       "      <td>1.8</td>\n",
       "      <td>5.0</td>\n",
       "      <td>11.0</td>\n",
       "      <td>44.2</td>\n",
       "      <td>36.4</td>\n",
       "    </tr>\n",
       "    <tr>\n",
       "      <th>jungle</th>\n",
       "      <td>0.0</td>\n",
       "      <td>0.0</td>\n",
       "      <td>0.0</td>\n",
       "      <td>0.0</td>\n",
       "      <td>0.0</td>\n",
       "      <td>19.5</td>\n",
       "      <td>80.5</td>\n",
       "    </tr>\n",
       "    <tr>\n",
       "      <th>jungewelt</th>\n",
       "      <td>0.0</td>\n",
       "      <td>0.0</td>\n",
       "      <td>0.0</td>\n",
       "      <td>5.4</td>\n",
       "      <td>8.0</td>\n",
       "      <td>1.3</td>\n",
       "      <td>85.3</td>\n",
       "    </tr>\n",
       "  </tbody>\n",
       "</table>\n",
       "</div>"
      ],
      "text/plain": [
       "party            AfD   CSU   CDU   FDP   SPD  Grüne  Linke\n",
       "netloc                                                    \n",
       "jungefreiheit  100.0   0.0   0.0   0.0   0.0    0.0    0.0\n",
       "cicero          37.7  23.1   7.3  20.8   0.0    8.1    3.1\n",
       "welt            32.2  14.0  20.1  17.4   7.8    5.1    3.3\n",
       "bild            18.2  21.0  28.1  19.3   7.5    4.4    1.4\n",
       "faz             13.7  18.5  24.7  22.9   5.5   10.1    4.6\n",
       "zeit             6.6   4.0  13.6  11.9  17.7   29.8   16.5\n",
       "taz              1.6   0.0   1.8   5.0  11.0   44.2   36.4\n",
       "jungle           0.0   0.0   0.0   0.0   0.0   19.5   80.5\n",
       "jungewelt        0.0   0.0   0.0   5.4   8.0    1.3   85.3"
      ]
     },
     "metadata": {},
     "output_type": "display_data"
    },
    {
     "data": {
      "text/plain": [
       "Index(['hessenschau', 'politico', 'focus', 'buzzfeed', 'vimeo', 'lobbycontrol',\n",
       "       'instagram', 'frauenrat', 'weser-kurier', 'aerztezeitung',\n",
       "       'sueddeutsche', 'shz', 'hr-inforadio', 'weforum', 'nytimes',\n",
       "       'tagesschau', 'der-postillon', 'berliner-zeitung', 'daserste',\n",
       "       'uebermedien', 'stuttgarter-zeitung', 'wn', 'welt', 'rundschau-online',\n",
       "       'fr', 'diw', 'com', 'abendblatt', 'thueringen24', 'bloomberg', 'bild',\n",
       "       'wahlnavi', 'swrmediathek', 'finanzen', 'rheinpfalz', 'mz-web', 'nw',\n",
       "       'bento', 'lvz', 'dw', 'hamburg', 'nrz', 'blogspot', 'inforadio',\n",
       "       't-online', 'mdr', 'huffingtonpost', 'jetzt', 'huffpost', 'derstandard',\n",
       "       'volksfreund', 'handelsblatt', 'wahl-o-mat', 'bundeswahlleiter', 'zeit',\n",
       "       'rnz', 'rbb-online', 'wz', 'wiwo', 'google', 'n-tv', 'web',\n",
       "       'klimaretter', 'faz', 'swr', 'ft', 'swp', 'orf', 'tagesspiegel',\n",
       "       'spiegel', 'bz-berlin', 'spotify', 'waz', 'hna', 'bbc',\n",
       "       'goettinger-tageblatt', 'ksta', 'deutschlandfunk', 'wikipedia',\n",
       "       'deutschlandfunkkultur', 'statista', 'mopo', 'nordbayern', 'stimme',\n",
       "       'morgenpost', 'wdr', 'nordkurier', 'zdf', 'facebook', 'stern',\n",
       "       'ln-online', 'meedia', 'ndr', 'svz', 'gdp', 'youtube', 'muelheim-ruhr',\n",
       "       'twitter', 'otz', 'txl-zu'],\n",
       "      dtype='object', name='netloc')"
      ]
     },
     "execution_count": 16,
     "metadata": {},
     "output_type": "execute_result"
    }
   ],
   "source": [
    "\n",
    "df = pd.read_csv(\"data_clean/twitter_media.tsv\", sep=\"\\t\", header=None, names=[\"id\", \"party\", \"tw\", \"link\"]).dropna()\n",
    "\n",
    "df = df.loc[df[\"party\"] != \"Pegida\"]\n",
    "df[\"netloc\"] = df[\"link\"].apply(lambda x: urlparse(x).netloc.split(\".\")[-2])\n",
    "df[\"count_netloc\"] = df.groupby([\"netloc\"])[\"id\"].transform(len)\n",
    "df = df.loc[df[\"count_netloc\"] > 10]\n",
    "df[\"count\"] = df.groupby([\"party\",\"netloc\"])[\"id\"].transform(len)\n",
    "df[\"count_p\"] = df.groupby([\"party\"])[\"id\"].transform(len)\n",
    "df = df.groupby([\"party\", \"netloc\", \"count\", \"count_p\"]).sum().reset_index()\n",
    "df[\"ratio\"] = df[\"count\"] / df[\"count_p\"]\n",
    "df.head()\n",
    "\n",
    "df[\"sum_netloc\"] = df.groupby(\"netloc\")[\"ratio\"].transform(np.sum)\n",
    "df[\"ideology\"] = df[\"ratio\"] / df[\"sum_netloc\"]\n",
    "del df[\"id\"]\n",
    "\n",
    "df2 = pd.pivot_table(df, values=\"ideology\", index=\"netloc\", columns=\"party\").dropna(thresh=1)\n",
    "#df2[\"div\"] = df2.apply(lambda x: entropy(np.nan_to_num(x)+0.001),1)\n",
    "#df2.sort_values(by=\"div\",ascending=False)\n",
    "df2.head()\n",
    "\n",
    "\n",
    "display(np.round(df2.loc[[\"jungefreiheit\",\"cicero\",\"welt\",\"bild\",\"faz\",\"zeit\",\"taz\",\"jungle\",\"jungewelt\"],[\"AfD\",\"CSU\",\"CDU\",\"FDP\",\"SPD\",\"Grüne\",\"Linke\"]] * 100, 1).fillna(0))\n",
    "\n",
    "\n",
    "df2[\"sqr\"] = np.sqrt((df2>0).sum(1))\n",
    "df2[\"std\"] = df2[['AfD', 'CDU', 'CSU', 'FDP', 'Grüne', 'Linke', 'SPD']].std(1)\n",
    "df2[\"std2\"] = (df2[\"std\"]*df2[\"sqr\"]).fillna(1)\n",
    "\n",
    "df2.sort_values(by=\"std2\", ascending=False).tail(100).index"
   ]
  },
  {
   "cell_type": "code",
   "execution_count": 18,
   "metadata": {},
   "outputs": [
    {
     "data": {
      "text/plain": [
       "<seaborn.matrix.ClusterGrid at 0x7f9a507bc908>"
      ]
     },
     "execution_count": 18,
     "metadata": {},
     "output_type": "execute_result"
    },
    {
     "data": {
      "image/png": "[encoded data removed]",
      "text/plain": [
       "<matplotlib.figure.Figure at 0x7f9a507bc6d8>"
      ]
     },
     "metadata": {},
     "output_type": "display_data"
    }
   ],
   "source": [
    "%matplotlib inline\n",
    "import pylab as plt\n",
    "\n",
    "sns.clustermap(df2[['AfD', 'CDU', 'CSU', 'FDP', 'Grüne', 'Linke', 'SPD']].fillna(0), method=\"complete\", metric=\"cosine\", figsize=(5, 20), cmap=\"YlOrBr\", vmax=0.5)"
   ]
  },
  {
   "cell_type": "code",
   "execution_count": 19,
   "metadata": {},
   "outputs": [],
   "source": [
    "import pickle\n",
    "netloc2freqs= df2.fillna(0).apply(lambda x: [np.array(x)],axis=1).to_dict()\n",
    "pickle.dump(netloc2freqs,open(\"data/netloc2freqs.dump\", \"wb+\"))"
   ]
  },
  {
   "cell_type": "markdown",
   "metadata": {},
   "source": [
    "# Clean data"
   ]
  },
  {
   "cell_type": "code",
   "execution_count": 21,
   "metadata": {},
   "outputs": [],
   "source": [
    "hash2links = pickle.load(open(\"data_clean/hash2links.dump\",\"rb+\"))"
   ]
  },
  {
   "cell_type": "code",
   "execution_count": 22,
   "metadata": {},
   "outputs": [
    {
     "name": "stderr",
     "output_type": "stream",
     "text": [
      "/opt/anaconda/anaconda3/lib/python3.5/site-packages/IPython/core/interactiveshell.py:2728: DtypeWarning: Columns (5) have mixed types. Specify dtype option on import or set low_memory=False.\n",
      "  interactivity=interactivity, compiler=compiler, result=result)\n"
     ]
    }
   ],
   "source": [
    "people = pd.read_csv(\"data_clean/all_people.csv\",sep=\"\\t\")\n",
    "people[\"day\"] = people[\"search_date\"].str.split(\" \").str[0]"
   ]
  },
  {
   "cell_type": "code",
   "execution_count": 23,
   "metadata": {},
   "outputs": [
    {
     "data": {
      "text/plain": [
       "array(['Katrin Göring-Eckardt', 'Christian Lindner', 'FDP', 'AfD',\n",
       "       'Alexander Gauland', 'Martin Schulz', 'SPD', 'Sahra Wagenknecht',\n",
       "       'Alice Weidel', 'CDU', 'Die Linke', 'CSU', 'Angela Merkel',\n",
       "       'Dietmar Bartsch', 'Cem Özdemir', 'Bündnis90/Die Grünen'],\n",
       "      dtype=object)"
      ]
     },
     "execution_count": 23,
     "metadata": {},
     "output_type": "execute_result"
    }
   ],
   "source": [
    "fix_keywords = {\n",
    "    'Katrin%20G%C3%B6ring-Eckardt':'Katrin Göring-Eckardt',\n",
    "    'Angela%20Merkel': 'Angela Merkel',\n",
    "    'Christian%20Lindner': 'Christian Lindner',\n",
    "    'Alexander%20Gauland': 'Alexander Gauland',\n",
    "    'Die%20Linke': 'Die Linke', \n",
    "    'Sahra%20Wagenknecht': 'Sahra Wagenknecht',\n",
    "    'Dietmar%20Bartsch': 'Dietmar Bartsch',\n",
    "    'Martin%20Schulz': 'Martin Schulz', \n",
    "    'B%C3%BCndnis90/Die%20Gr%C3%BCnen':'Bündnis90/Die Grünen', \n",
    "    'Alice%20Weidel': 'Alice Weidel',\n",
    "    'Cem%20%C3%96zdemir': 'Cem Özdemir',\n",
    "    'Angelasdfsdfööööö Merkel': 'Angela Merkel',\n",
    "    'Martinöööö Schulz': 'Martin Schulz'\n",
    "}\n",
    "\n",
    "people[\"keyword\"] = people[\"keyword\"].replace(fix_keywords)\n",
    "people[\"keyword\"].unique()"
   ]
  },
  {
   "cell_type": "code",
   "execution_count": 24,
   "metadata": {},
   "outputs": [],
   "source": [
    "person2party = {\n",
    "    'Katrin Göring-Eckardt':'Bündnis90/Die Grünen',\n",
    "    'Christian Lindner':'FDP',\n",
    "    'Alexander Gauland': 'AfD',\n",
    "    'Martin Schulz': 'SPD', \n",
    "    'Sahra Wagenknecht': 'Die Linke',\n",
    "    'Angela Merkel': 'CDU',\n",
    "    'Alice Weidel': 'AfD',\n",
    "    'Dietmar Bartsch': 'Die Linke',\n",
    "    'Cem Özdemir': 'Bündnis90/Die Grünen'\n",
    "}\n"
   ]
  },
  {
   "cell_type": "markdown",
   "metadata": {},
   "source": [
    "# Add ideology of results"
   ]
  },
  {
   "cell_type": "code",
   "execution_count": 25,
   "metadata": {},
   "outputs": [],
   "source": [
    "netloc2freqs = pickle.load(open(\"data/netloc2freqs.dump\", \"rb+\"))"
   ]
  },
  {
   "cell_type": "code",
   "execution_count": 27,
   "metadata": {},
   "outputs": [],
   "source": [
    "#add average and std happiness\n",
    "def get_ideology(x):\n",
    "    hash_,keyword = x\n",
    "    #All links hap\n",
    "#     a,lo,le,nl,e = [],[],[],[],[]\n",
    "    a = []\n",
    "    for l in hash2links[hash_]:\n",
    "        l = urlparse(l).netloc.split(\".\")\n",
    "        if len(l) < 2:\n",
    "            continue\n",
    "        l = l[-2]\n",
    "        lf = netloc2freqs.get(l)\n",
    "        if lf is None:\n",
    "            continue\n",
    "        a.append(lf)\n",
    "\n",
    "    if len(a) > 0:\n",
    "        return np.nanmean(np.concatenate(a), 0), np.std(np.concatenate(a), 0), len(a)\n",
    "    else:\n",
    "        return np.array([np.NaN]*7), np.array([np.NaN]*7), len(a)\n",
    "\n",
    "from multiprocessing import Pool\n",
    "\n",
    "with Pool() as pool:\n",
    "    people[\"av_ideo_all\"], people[\"std_ideo_all\"], people[\"count_ideo_all\"] = zip(*pool.map(get_ideology, zip(people[\"result_hash\"], people[\"keyword\"])))\n"
   ]
  },
  {
   "cell_type": "code",
   "execution_count": 28,
   "metadata": {},
   "outputs": [],
   "source": [
    "people[\"user2\"] = people[\"user\"] + \"_\" + people[\"login_status\"].astype(int).astype(str)\n",
    "p2i = {\"AfD\":0, \"CDU\":1, \"CSU\":2, \"FDP\":3, \"Grüne\":4, \"Linke\":5, \"SPD\":6}\n",
    "\n",
    "for i in p2i:\n",
    "    people[\"{}_ideo\".format(i)] = people[\"av_ideo_all\"].str[p2i[i]]\n",
    "    people[\"{}_std_ideo\".format(i)] = people[\"std_ideo_all\"].str[p2i[i]]\n",
    "    \n",
    "del people[\"av_ideo_all\"]\n",
    "del people[\"std_ideo_all\"]\n",
    "\n",
    "parties = ['AfD', 'Bündnis90/Die Grünen', 'CDU', 'CSU', 'Die Linke','FDP', 'SPD']\n",
    "people[\"person\"] = people[\"keyword\"].apply(lambda x: x in parties)\n",
    "\n",
    "people.to_csv(\"data_clean/all_people_hap.csv\", sep=\"\\t\", index=None)\n"
   ]
  },
  {
   "cell_type": "markdown",
   "metadata": {},
   "source": [
    "# Entropy data"
   ]
  },
  {
   "cell_type": "code",
   "execution_count": 29,
   "metadata": {},
   "outputs": [],
   "source": [
    "def mkunion(*args):\n",
    "    args = [hash2links[_] for _ in args[0].values]\n",
    "    all_links = list(Counter(list(itertools.chain(*args))).values())\n",
    "    return entropy(all_links)/np.log(len(all_links))\n"
   ]
  },
  {
   "cell_type": "code",
   "execution_count": 30,
   "metadata": {},
   "outputs": [
    {
     "name": "stderr",
     "output_type": "stream",
     "text": [
      "/opt/anaconda/anaconda3/lib/python3.5/site-packages/ipykernel/__main__.py:4: RuntimeWarning: invalid value encountered in double_scalars\n"
     ]
    }
   ],
   "source": [
    "p = people.groupby([\"const_i\",\"keyword\",\"login_status\",\"search_type\",\"person\"])\n",
    "          .agg({\"plugin_id\":len, \"result_hash\":mkunion})\n",
    "          .reset_index()\n",
    "p[\"const_i\"] = p[\"const_i\"].astype(int)\n",
    "\n",
    "p = p.loc[p[\"plugin_id\"] > 1] # count of results\n",
    "p[\"plugin_id\"] = np.log10(p[\"plugin_id\"])\n",
    "p.to_csv(\"data_clean/all_people_entropy.csv\", sep=\"\\t\", index=None)"
   ]
  },
  {
   "cell_type": "code",
   "execution_count": null,
   "metadata": {},
   "outputs": [],
   "source": []
  }
 ],
 "metadata": {
  "anaconda-cloud": {},
  "kernelspec": {
   "display_name": "Python 3",
   "language": "python",
   "name": "python3"
  },
  "language_info": {
   "codemirror_mode": {
    "name": "ipython",
    "version": 3
   },
   "file_extension": ".py",
   "mimetype": "text/x-python",
   "name": "python",
   "nbconvert_exporter": "python",
   "pygments_lexer": "ipython3",
   "version": "3.6.6"
  }
 },
 "nbformat": 4,
 "nbformat_minor": 2
}
